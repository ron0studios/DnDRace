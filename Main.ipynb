{
 "cells": [
  {
   "cell_type": "code",
   "execution_count": 133,
   "metadata": {},
   "outputs": [],
   "source": [
    "import torch\n",
    "import torch.nn.functional as F\n",
    "import matplotlib.pyplot as plt\n",
    "%matplotlib inline"
   ]
  },
  {
   "attachments": {},
   "cell_type": "markdown",
   "metadata": {},
   "source": [
    "### Loading the data\n",
    "---"
   ]
  },
  {
   "attachments": {},
   "cell_type": "markdown",
   "metadata": {},
   "source": [
    "fetch the data"
   ]
  },
  {
   "cell_type": "code",
   "execution_count": 134,
   "metadata": {},
   "outputs": [
    {
     "name": "stdout",
     "output_type": "stream",
     "text": [
      "total worldbox data :  4412\n",
      "max worldbox data :  12\n"
     ]
    }
   ],
   "source": [
    "wb_data = {\n",
    "    \"dwarf\" : open(\"data/worldbox/dwarf\").read().splitlines(),\n",
    "    \"elf\"   :   open(\"data/worldbox/elf\").read().splitlines(),\n",
    "    \"orc\"   :   open(\"data/worldbox/orc\").read().splitlines()\n",
    "}\n",
    "\n",
    "xn_data = {\n",
    "    \"dwarf\"      : list(set(open(\"data/xanathar/dwarf_male.txt\").read().splitlines()    + open(\"data/xanathar/dwarf_female.txt\").read().splitlines()    + open(\"data/fantasynamegen/dwarf\").read().splitlines())),\n",
    "    \"elf\"        : list(set(open(\"data/xanathar/elf_male.txt\").read().splitlines()      + open(\"data/xanathar/elf_female.txt\").read().splitlines()      + open(\"data/fantasynamegen/elf\").read().splitlines())),\n",
    "    \"orc\"        : list(set(open(\"data/xanathar/halforc_male.txt\").read().splitlines()  + open(\"data/xanathar/halforc_female.txt\").read().splitlines()  + open(\"data/fantasynamegen/orc\").read().splitlines())),\n",
    "    \"tiefling\"   : list(set(open(\"data/xanathar/tiefling_male.txt\").read().splitlines() + open(\"data/xanathar/tiefling_female.txt\").read().splitlines() + open(\"data/fantasynamegen/tiefling\").read().splitlines())),\n",
    "    \"halfling\"   : list(set(open(\"data/xanathar/halfling_male.txt\").read().splitlines() + open(\"data/xanathar/halfling_female.txt\").read().splitlines() + open(\"data/fantasynamegen/halfling\").read().splitlines())),\n",
    "    \"dragonborn\" : list(set(open(\"data/xanathar/halfling_male.txt\").read().splitlines() + open(\"data/xanathar/halfling_female.txt\").read().splitlines() + open(\"data/fantasynamegen/dragonborn\").read().splitlines()))\n",
    "}\n",
    "\n",
    "\n",
    "print(\"total worldbox data : \", sum(len(d) for d in wb_data.values()))\n",
    "print(\"max worldbox data : \", max(len(p) for d in wb_data.values() for p in d))\n"
   ]
  },
  {
   "attachments": {},
   "cell_type": "markdown",
   "metadata": {},
   "source": [
    "clean data"
   ]
  },
  {
   "cell_type": "code",
   "execution_count": null,
   "metadata": {},
   "outputs": [],
   "source": []
  },
  {
   "cell_type": "code",
   "execution_count": 135,
   "metadata": {},
   "outputs": [
    {
     "name": "stdout",
     "output_type": "stream",
     "text": [
      "6184\n",
      "total xanathar data :  6329\n"
     ]
    }
   ],
   "source": [
    "for i in xn_data.keys():\n",
    "    xn_data[i] = list(set(d.strip().lower() for d in xn_data[i]))\n",
    "\n",
    "\n",
    "stoi = { s:i for i,s in enumerate(list(p for d in xn_data.values() for p in d)) }\n",
    "itos = { i:s for s,i in stoi.items()}\n",
    "\n",
    "label_stoi = {s:i for i,s in enumerate(list(xn_data.keys()))}\n",
    "label_itos = {s:i for i,s in label_stoi.items()}\n",
    "\n",
    "\n",
    "# print(len(set(p for d in xn_data.values() for p in d)))\n",
    "\n",
    "my_dict = {i:list(p for d in xn_data.values() for p in d).count(i) for i in list(p for d in xn_data.values() for p in d)   }\n",
    "\n",
    "\n",
    "print(len(list(stoi.items())))\n",
    "print(\"total xanathar data : \", sum(len(d) for d in xn_data.values()) )\n"
   ]
  },
  {
   "cell_type": "code",
   "execution_count": 136,
   "metadata": {},
   "outputs": [
    {
     "data": {
      "text/plain": [
       "{'dwarf': 0, 'elf': 1, 'orc': 2, 'tiefling': 3, 'halfling': 4, 'dragonborn': 5}"
      ]
     },
     "execution_count": 136,
     "metadata": {},
     "output_type": "execute_result"
    }
   ],
   "source": [
    "label_stoi"
   ]
  },
  {
   "cell_type": "code",
   "execution_count": 137,
   "metadata": {},
   "outputs": [
    {
     "data": {
      "text/plain": [
       "18"
      ]
     },
     "execution_count": 137,
     "metadata": {},
     "output_type": "execute_result"
    }
   ],
   "source": [
    "max(len(p) for d in xn_data.values() for p in d for c in p)"
   ]
  },
  {
   "cell_type": "code",
   "execution_count": 138,
   "metadata": {},
   "outputs": [
    {
     "data": {
      "text/plain": [
       "[1.0, 2.0, 3.0, 4.0, 5.0, 6.0, 7.0, 0, 0, 0, 0, 0, 0, 0, 0, 0, 0, 0]"
      ]
     },
     "execution_count": 138,
     "metadata": {},
     "output_type": "execute_result"
    }
   ],
   "source": [
    "def charsplit(s:str, pad=18):\n",
    "    return [ord(d)-ord('a')+1.0 for d in s] + ([0] * (pad-len(s)))\n",
    "\n",
    "charsplit(\"abcdefg\")"
   ]
  },
  {
   "cell_type": "code",
   "execution_count": 139,
   "metadata": {},
   "outputs": [
    {
     "data": {
      "text/plain": [
       "(6329, 6329)"
      ]
     },
     "execution_count": 139,
     "metadata": {},
     "output_type": "execute_result"
    }
   ],
   "source": [
    "\n",
    "Xtr, Ytr = list(charsplit(p) for d in xn_data.values() for p in d), list(label_stoi[p] for d in xn_data.keys() for p in [d]*len(xn_data[d]))\n",
    "Xtr = torch.tensor(Xtr)\n",
    "Ytr = torch.tensor(Ytr)\n",
    "len(Xtr), len(Ytr)"
   ]
  },
  {
   "cell_type": "code",
   "execution_count": 140,
   "metadata": {},
   "outputs": [
    {
     "data": {
      "text/plain": [
       "torch.float32"
      ]
     },
     "execution_count": 140,
     "metadata": {},
     "output_type": "execute_result"
    }
   ],
   "source": [
    "# only with no stoi[p] and label_stoi[p] in Xtr,Ytr definition\n",
    "# check = {\"dwarf\":[], \"elf\":[], \"orc\":[], \"tiefling\":[], \"halfling\":[]}\n",
    "# for i in zip(Ytr,Xtr):\n",
    "#     check[i[0]].append(i[1])\n",
    "# \n",
    "# #xn_data == check\n",
    "# print(Xtr[191], Ytr[440])\n",
    "# \n",
    "# for i in range(len(Xtr)):\n",
    "#     if Xtr[i] == 'nora':\n",
    "#         print(i)\n",
    "\n",
    "Xtr.dtype"
   ]
  },
  {
   "attachments": {},
   "cell_type": "markdown",
   "metadata": {},
   "source": [
    "### Making the model\n",
    "---"
   ]
  },
  {
   "cell_type": "code",
   "execution_count": 141,
   "metadata": {},
   "outputs": [],
   "source": [
    "\n",
    "# C = torch.randn((26, 10))\n",
    "# \n",
    "# model = torch.nn.Sequential(\n",
    "#     torch.nn.Linear(12 , 100),    \n",
    "#     torch.nn.Linear(100,  50),   torch.nn.Tanh(),\n",
    "#     torch.nn.Linear(50 , 25) ,   torch.nn.Tanh(),\n",
    "#     torch.nn.Linear(25 , 5) \n",
    "# )\n",
    "# \n",
    "# for n in model.children():\n",
    "#     n.requires_grad = True\n",
    "# \n",
    "# parameters = model.parameters()\n",
    "# sum(p.nelement() for p in parameters)"
   ]
  },
  {
   "cell_type": "code",
   "execution_count": 142,
   "metadata": {},
   "outputs": [],
   "source": [
    "W1 = torch.randn((18, 100))\n",
    "b1 = torch.randn(100)\n",
    "W2 = torch.randn((100,50))\n",
    "b2 = torch.randn(50)\n",
    "W3 = torch.randn((50,6))\n",
    "b3 = torch.randn(6)\n",
    "\n",
    "parameters = [W1,b1,W2,b2,W3,b3]\n",
    "for p in parameters:\n",
    "    p.requires_grad = True"
   ]
  },
  {
   "cell_type": "code",
   "execution_count": 148,
   "metadata": {},
   "outputs": [
    {
     "name": "stdout",
     "output_type": "stream",
     "text": [
      "0.9851483702659607\n",
      "1.3117640018463135\n",
      "0.8021224141120911\n",
      "1.2573732137680054\n",
      "1.1338024139404297\n",
      "1.0309337377548218\n",
      "1.0504716634750366\n",
      "1.22589111328125\n",
      "1.1100701093673706\n",
      "1.2352482080459595\n"
     ]
    }
   ],
   "source": [
    "batch_size = 32\n",
    "epochs = 1000\n",
    "\n",
    "for i in range(epochs):\n",
    "    ix = torch.randint(0, 6329, (batch_size, ))\n",
    "    Xb, Yb = Xtr[ix], Ytr[ix]\n",
    "\n",
    "    #emb = \n",
    "    #X = torch.randn((32,12))dk\n",
    "    l1 = torch.tanh(Xb @ W1 + b1)\n",
    "    l2 = torch.tanh(l1 @ W2 + b2)\n",
    "    logits = l2 @ W3 + b3\n",
    "\n",
    "    loss = F.cross_entropy(logits, Yb)\n",
    "\n",
    "    if i % 100 == 0:\n",
    "        print(loss.item())\n",
    "\n",
    "    for i in parameters:\n",
    "        i.grad = None\n",
    "\n",
    "    loss.backward()\n",
    "\n",
    "    for i in parameters:\n",
    "        i.data += -0.001 * i.grad \n",
    "\n"
   ]
  },
  {
   "cell_type": "code",
   "execution_count": 165,
   "metadata": {},
   "outputs": [
    {
     "name": "stdout",
     "output_type": "stream",
     "text": [
      "tensor([0.3093, 0.0102, 0.5261, 0.0075, 0.0012, 0.1457])\n"
     ]
    }
   ],
   "source": [
    "prompt = \"\"\n",
    "prompt = charsplit(prompt)\n",
    "prompt = torch.tensor(prompt)\n",
    "\n",
    "\n",
    "l1 = torch.tanh(prompt @ W1 + b1)\n",
    "l2 = torch.tanh(l1 @ W2 + b2)\n",
    "logits = l2 @ W3 + b3\n",
    "probs = F.softmax(logits, dim=0)\n",
    "print(probs.data)"
   ]
  },
  {
   "cell_type": "code",
   "execution_count": 114,
   "metadata": {},
   "outputs": [
    {
     "data": {
      "text/plain": [
       "{'dwarf': 0, 'elf': 1, 'orc': 2, 'tiefling': 3, 'halfling': 4, 'dragonborn': 5}"
      ]
     },
     "execution_count": 114,
     "metadata": {},
     "output_type": "execute_result"
    }
   ],
   "source": [
    "label_stoi"
   ]
  },
  {
   "cell_type": "code",
   "execution_count": null,
   "metadata": {},
   "outputs": [],
   "source": []
  },
  {
   "cell_type": "code",
   "execution_count": 72,
   "metadata": {},
   "outputs": [
    {
     "ename": "SyntaxError",
     "evalue": "unterminated string literal (detected at line 2) (589144943.py, line 2)",
     "output_type": "error",
     "traceback": [
      "\u001b[0;36m  Cell \u001b[0;32mIn[72], line 2\u001b[0;36m\u001b[0m\n\u001b[0;31m    g,mg,kgllglglg,mxm...c,,v,b,breakn,,n,mnmmhk.g;g;p'F\u001b[0m\n\u001b[0m                                                      ^\u001b[0m\n\u001b[0;31mSyntaxError\u001b[0m\u001b[0;31m:\u001b[0m unterminated string literal (detected at line 2)\n"
     ]
    }
   ],
   "source": []
  },
  {
   "cell_type": "code",
   "execution_count": null,
   "metadata": {},
   "outputs": [],
   "source": []
  }
 ],
 "metadata": {
  "kernelspec": {
   "display_name": "Python 3",
   "language": "python",
   "name": "python3"
  },
  "language_info": {
   "codemirror_mode": {
    "name": "ipython",
    "version": 3
   },
   "file_extension": ".py",
   "mimetype": "text/x-python",
   "name": "python",
   "nbconvert_exporter": "python",
   "pygments_lexer": "ipython3",
   "version": "3.11.3"
  },
  "orig_nbformat": 4
 },
 "nbformat": 4,
 "nbformat_minor": 2
}
